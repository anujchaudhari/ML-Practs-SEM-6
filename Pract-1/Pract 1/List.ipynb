{
  "nbformat": 4,
  "nbformat_minor": 0,
  "metadata": {
    "colab": {
      "name": "List.ipynb",
      "provenance": []
    },
    "kernelspec": {
      "name": "python3",
      "display_name": "Python 3"
    }
  },
  "cells": [
    {
      "cell_type": "markdown",
      "metadata": {
        "id": "7-CRpkG6r8Ks"
      },
      "source": [
        "List"
      ]
    },
    {
      "cell_type": "code",
      "metadata": {
        "id": "_bM8-Rkvr-ix"
      },
      "source": [
        "lst = [\"x\",\"y\",\"z\"]\r\n",
        "print(lst)"
      ],
      "execution_count": null,
      "outputs": []
    },
    {
      "cell_type": "markdown",
      "metadata": {
        "id": "f2nlEeevsBk_"
      },
      "source": [
        "List is ordered"
      ]
    },
    {
      "cell_type": "code",
      "metadata": {
        "id": "m3PmXAYUsFlV"
      },
      "source": [
        "n = len(lst)\r\n",
        "for i in range(n):\r\n",
        "  print(\"<\"+str(i)+\">\" +lst[i])"
      ],
      "execution_count": null,
      "outputs": []
    },
    {
      "cell_type": "markdown",
      "metadata": {
        "id": "jcO9Niy_sH8T"
      },
      "source": [
        "List can have multiple data type"
      ]
    },
    {
      "cell_type": "code",
      "metadata": {
        "id": "PFy_1Q-jsKuF"
      },
      "source": [
        "lst2 = [1, \"ABC\", True, 5.5]\r\n",
        "print(type(lst2))\r\n",
        "for x in lst2:\r\n",
        "  print(str(x)+ \": \" + str(type(x)))"
      ],
      "execution_count": null,
      "outputs": []
    },
    {
      "cell_type": "markdown",
      "metadata": {
        "id": "gZF9UxK0sNQf"
      },
      "source": [
        "List is mutable"
      ]
    },
    {
      "cell_type": "code",
      "metadata": {
        "id": "jTs30g7XsQOm"
      },
      "source": [
        "lst2[1] = \"xyz\"\r\n",
        "lst2.append(100)\r\n",
        "lst2.append(200)\r\n",
        "lst2.remove(200)\r\n",
        "lst2.insert(3,False)\r\n",
        "print(lst2)"
      ],
      "execution_count": null,
      "outputs": []
    },
    {
      "cell_type": "markdown",
      "metadata": {
        "id": "3mhbzfpAsS_N"
      },
      "source": [
        "Slicing list"
      ]
    },
    {
      "cell_type": "code",
      "metadata": {
        "id": "nXfR9Pl8sVnb"
      },
      "source": [
        "print(lst2[2:5])"
      ],
      "execution_count": null,
      "outputs": []
    },
    {
      "cell_type": "code",
      "metadata": {
        "id": "VO_CI-p7sY1B"
      },
      "source": [
        "print(lst2[:3])"
      ],
      "execution_count": null,
      "outputs": []
    },
    {
      "cell_type": "code",
      "metadata": {
        "id": "a0tJMgegsbAB"
      },
      "source": [
        "print(lst2[3:])"
      ],
      "execution_count": null,
      "outputs": []
    },
    {
      "cell_type": "markdown",
      "metadata": {
        "id": "mNX6JVQFshRr"
      },
      "source": [
        "Nested list"
      ]
    },
    {
      "cell_type": "code",
      "metadata": {
        "colab": {
          "base_uri": "https://localhost:8080/",
          "height": 178
        },
        "id": "9WogpUYEsh7_",
        "outputId": "3b03d569-c51d-4769-f049-84798a701b60"
      },
      "source": [
        "lst3 = [lst,lst2]\r\n",
        "print(lst3)"
      ],
      "execution_count": 1,
      "outputs": [
        {
          "output_type": "error",
          "ename": "NameError",
          "evalue": "ignored",
          "traceback": [
            "\u001b[0;31m---------------------------------------------------------------------------\u001b[0m",
            "\u001b[0;31mNameError\u001b[0m                                 Traceback (most recent call last)",
            "\u001b[0;32m<ipython-input-1-cf0eea577766>\u001b[0m in \u001b[0;36m<module>\u001b[0;34m()\u001b[0m\n\u001b[0;32m----> 1\u001b[0;31m \u001b[0mlst3\u001b[0m \u001b[0;34m=\u001b[0m \u001b[0;34m[\u001b[0m\u001b[0mlst\u001b[0m\u001b[0;34m,\u001b[0m\u001b[0mlst2\u001b[0m\u001b[0;34m]\u001b[0m\u001b[0;34m\u001b[0m\u001b[0;34m\u001b[0m\u001b[0m\n\u001b[0m\u001b[1;32m      2\u001b[0m \u001b[0mprint\u001b[0m\u001b[0;34m(\u001b[0m\u001b[0mlst3\u001b[0m\u001b[0;34m)\u001b[0m\u001b[0;34m\u001b[0m\u001b[0;34m\u001b[0m\u001b[0m\n",
            "\u001b[0;31mNameError\u001b[0m: name 'lst' is not defined"
          ]
        }
      ]
    }
  ]
}