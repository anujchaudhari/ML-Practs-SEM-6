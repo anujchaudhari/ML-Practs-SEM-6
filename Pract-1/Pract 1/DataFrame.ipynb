{
  "nbformat": 4,
  "nbformat_minor": 0,
  "metadata": {
    "colab": {
      "name": "DataFrame.ipynb",
      "provenance": []
    },
    "kernelspec": {
      "name": "python3",
      "display_name": "Python 3"
    }
  },
  "cells": [
    {
      "cell_type": "code",
      "metadata": {
        "id": "ZBtsDZ0R0bGq"
      },
      "source": [
        "import pandas as pd\r\n",
        "import numpy as np"
      ],
      "execution_count": 2,
      "outputs": []
    },
    {
      "cell_type": "code",
      "metadata": {
        "colab": {
          "base_uri": "https://localhost:8080/"
        },
        "id": "p15ymwCx37xe",
        "outputId": "a158b653-06ee-45fa-8729-fdd4950d7cee"
      },
      "source": [
        "data = {\"agents\":[\"ninja\",\"beast\",\"dragon\",\"nerd\"],'ranks':[50,60,70,80],'cost':[10,20,30,40]}\r\n",
        "df = pd.DataFrame(data)\r\n",
        "print(df)"
      ],
      "execution_count": 3,
      "outputs": [
        {
          "output_type": "stream",
          "text": [
            "   agents  ranks  cost\n",
            "0   ninja     50    10\n",
            "1   beast     60    20\n",
            "2  dragon     70    30\n",
            "3    nerd     80    40\n"
          ],
          "name": "stdout"
        }
      ]
    },
    {
      "cell_type": "code",
      "metadata": {
        "colab": {
          "base_uri": "https://localhost:8080/"
        },
        "id": "8-5YCvBt4SNA",
        "outputId": "364b3a25-0dca-4124-a27f-b33b6237dfc4"
      },
      "source": [
        "print(df[['agents','cost']])"
      ],
      "execution_count": 4,
      "outputs": [
        {
          "output_type": "stream",
          "text": [
            "   agents  cost\n",
            "0   ninja    10\n",
            "1   beast    20\n",
            "2  dragon    30\n",
            "3    nerd    40\n"
          ],
          "name": "stdout"
        }
      ]
    },
    {
      "cell_type": "code",
      "metadata": {
        "colab": {
          "base_uri": "https://localhost:8080/"
        },
        "id": "3Spyw3JR4Uwk",
        "outputId": "70ee91f0-c8e7-4094-fcb2-7207b6dda122"
      },
      "source": [
        "arr1 = np.array([1,2,3,4])\r\n",
        "print(arr1)\r\n",
        "print(type(arr1))\r\n",
        "print(arr1.ndim)"
      ],
      "execution_count": 5,
      "outputs": [
        {
          "output_type": "stream",
          "text": [
            "[1 2 3 4]\n",
            "<class 'numpy.ndarray'>\n",
            "1\n"
          ],
          "name": "stdout"
        }
      ]
    },
    {
      "cell_type": "code",
      "metadata": {
        "colab": {
          "base_uri": "https://localhost:8080/"
        },
        "id": "bN6177544XYG",
        "outputId": "58fb5b77-ada7-4d8e-e669-3cc267fd3c04"
      },
      "source": [
        "arr2 = np.array([[1,2,3,4],[11,22,33,44]])\r\n",
        "print(arr2)\r\n",
        "print(type(arr2))\r\n",
        "print(arr2.ndim)\r\n",
        "arr2.sum(1)"
      ],
      "execution_count": 6,
      "outputs": [
        {
          "output_type": "stream",
          "text": [
            "[[ 1  2  3  4]\n",
            " [11 22 33 44]]\n",
            "<class 'numpy.ndarray'>\n",
            "2\n"
          ],
          "name": "stdout"
        },
        {
          "output_type": "execute_result",
          "data": {
            "text/plain": [
              "array([ 10, 110])"
            ]
          },
          "metadata": {
            "tags": []
          },
          "execution_count": 6
        }
      ]
    },
    {
      "cell_type": "code",
      "metadata": {
        "id": "EA7UZ9CC4aY3"
      },
      "source": [
        "arr2[:]"
      ],
      "execution_count": null,
      "outputs": []
    },
    {
      "cell_type": "code",
      "metadata": {
        "colab": {
          "base_uri": "https://localhost:8080/"
        },
        "id": "O-Oe6Ldm4dIn",
        "outputId": "b24c2a4a-aeda-4818-c8aa-758e8251f698"
      },
      "source": [
        "arr3 = np.array([[[33,55,77,99]]])\r\n",
        "print(arr3)\r\n",
        "print(type(arr3))\r\n",
        "print(arr3.ndim)\r\n",
        "arr3.sum(2)\r\n",
        "arr3.max(2)"
      ],
      "execution_count": 7,
      "outputs": [
        {
          "output_type": "stream",
          "text": [
            "[[[33 55 77 99]]]\n",
            "<class 'numpy.ndarray'>\n",
            "3\n"
          ],
          "name": "stdout"
        },
        {
          "output_type": "execute_result",
          "data": {
            "text/plain": [
              "array([[99]])"
            ]
          },
          "metadata": {
            "tags": []
          },
          "execution_count": 7
        }
      ]
    },
    {
      "cell_type": "code",
      "metadata": {
        "colab": {
          "base_uri": "https://localhost:8080/",
          "height": 166
        },
        "id": "qteRet4e4gFi",
        "outputId": "a79ebc9f-9257-4a6b-a26a-6cc0c7e38d0e"
      },
      "source": [
        "df"
      ],
      "execution_count": 8,
      "outputs": [
        {
          "output_type": "execute_result",
          "data": {
            "text/html": [
              "<div>\n",
              "<style scoped>\n",
              "    .dataframe tbody tr th:only-of-type {\n",
              "        vertical-align: middle;\n",
              "    }\n",
              "\n",
              "    .dataframe tbody tr th {\n",
              "        vertical-align: top;\n",
              "    }\n",
              "\n",
              "    .dataframe thead th {\n",
              "        text-align: right;\n",
              "    }\n",
              "</style>\n",
              "<table border=\"1\" class=\"dataframe\">\n",
              "  <thead>\n",
              "    <tr style=\"text-align: right;\">\n",
              "      <th></th>\n",
              "      <th>agents</th>\n",
              "      <th>ranks</th>\n",
              "      <th>cost</th>\n",
              "    </tr>\n",
              "  </thead>\n",
              "  <tbody>\n",
              "    <tr>\n",
              "      <th>0</th>\n",
              "      <td>ninja</td>\n",
              "      <td>50</td>\n",
              "      <td>10</td>\n",
              "    </tr>\n",
              "    <tr>\n",
              "      <th>1</th>\n",
              "      <td>beast</td>\n",
              "      <td>60</td>\n",
              "      <td>20</td>\n",
              "    </tr>\n",
              "    <tr>\n",
              "      <th>2</th>\n",
              "      <td>dragon</td>\n",
              "      <td>70</td>\n",
              "      <td>30</td>\n",
              "    </tr>\n",
              "    <tr>\n",
              "      <th>3</th>\n",
              "      <td>nerd</td>\n",
              "      <td>80</td>\n",
              "      <td>40</td>\n",
              "    </tr>\n",
              "  </tbody>\n",
              "</table>\n",
              "</div>"
            ],
            "text/plain": [
              "   agents  ranks  cost\n",
              "0   ninja     50    10\n",
              "1   beast     60    20\n",
              "2  dragon     70    30\n",
              "3    nerd     80    40"
            ]
          },
          "metadata": {
            "tags": []
          },
          "execution_count": 8
        }
      ]
    },
    {
      "cell_type": "code",
      "metadata": {
        "colab": {
          "base_uri": "https://localhost:8080/"
        },
        "id": "FK7GdO3M4il5",
        "outputId": "8acc0ed7-b335-44fa-90ed-104c41c0c063"
      },
      "source": [
        "first = df.loc[0]\r\n",
        "second = df.loc[3]\r\n",
        "print(first,\"\\n\\n\\n\",second)"
      ],
      "execution_count": 9,
      "outputs": [
        {
          "output_type": "stream",
          "text": [
            "agents    ninja\n",
            "ranks        50\n",
            "cost         10\n",
            "Name: 0, dtype: object \n",
            "\n",
            "\n",
            " agents    nerd\n",
            "ranks       80\n",
            "cost        40\n",
            "Name: 3, dtype: object\n"
          ],
          "name": "stdout"
        }
      ]
    },
    {
      "cell_type": "code",
      "metadata": {
        "colab": {
          "base_uri": "https://localhost:8080/",
          "height": 166
        },
        "id": "crkPwX6S4ltA",
        "outputId": "6a7f4e89-755b-4c96-e269-7cf94e90f260"
      },
      "source": [
        "dict = {'First Score':[100, 90, np.nan, 95],\r\n",
        "        'Second Score': [30, 45, 56, np.nan],\r\n",
        "        'Third Score':[np.nan, 40, 80, 98]}\r\n",
        "df1 = pd.DataFrame(dict)\r\n",
        "df1.notnull()"
      ],
      "execution_count": 10,
      "outputs": [
        {
          "output_type": "execute_result",
          "data": {
            "text/html": [
              "<div>\n",
              "<style scoped>\n",
              "    .dataframe tbody tr th:only-of-type {\n",
              "        vertical-align: middle;\n",
              "    }\n",
              "\n",
              "    .dataframe tbody tr th {\n",
              "        vertical-align: top;\n",
              "    }\n",
              "\n",
              "    .dataframe thead th {\n",
              "        text-align: right;\n",
              "    }\n",
              "</style>\n",
              "<table border=\"1\" class=\"dataframe\">\n",
              "  <thead>\n",
              "    <tr style=\"text-align: right;\">\n",
              "      <th></th>\n",
              "      <th>First Score</th>\n",
              "      <th>Second Score</th>\n",
              "      <th>Third Score</th>\n",
              "    </tr>\n",
              "  </thead>\n",
              "  <tbody>\n",
              "    <tr>\n",
              "      <th>0</th>\n",
              "      <td>True</td>\n",
              "      <td>True</td>\n",
              "      <td>False</td>\n",
              "    </tr>\n",
              "    <tr>\n",
              "      <th>1</th>\n",
              "      <td>True</td>\n",
              "      <td>True</td>\n",
              "      <td>True</td>\n",
              "    </tr>\n",
              "    <tr>\n",
              "      <th>2</th>\n",
              "      <td>False</td>\n",
              "      <td>True</td>\n",
              "      <td>True</td>\n",
              "    </tr>\n",
              "    <tr>\n",
              "      <th>3</th>\n",
              "      <td>True</td>\n",
              "      <td>False</td>\n",
              "      <td>True</td>\n",
              "    </tr>\n",
              "  </tbody>\n",
              "</table>\n",
              "</div>"
            ],
            "text/plain": [
              "   First Score  Second Score  Third Score\n",
              "0         True          True        False\n",
              "1         True          True         True\n",
              "2        False          True         True\n",
              "3         True         False         True"
            ]
          },
          "metadata": {
            "tags": []
          },
          "execution_count": 10
        }
      ]
    },
    {
      "cell_type": "code",
      "metadata": {
        "colab": {
          "base_uri": "https://localhost:8080/",
          "height": 166
        },
        "id": "AJoLerlq4osx",
        "outputId": "39eec82c-2f76-4bf0-ae85-bc8b14c35511"
      },
      "source": [
        "df1.isnull()"
      ],
      "execution_count": 11,
      "outputs": [
        {
          "output_type": "execute_result",
          "data": {
            "text/html": [
              "<div>\n",
              "<style scoped>\n",
              "    .dataframe tbody tr th:only-of-type {\n",
              "        vertical-align: middle;\n",
              "    }\n",
              "\n",
              "    .dataframe tbody tr th {\n",
              "        vertical-align: top;\n",
              "    }\n",
              "\n",
              "    .dataframe thead th {\n",
              "        text-align: right;\n",
              "    }\n",
              "</style>\n",
              "<table border=\"1\" class=\"dataframe\">\n",
              "  <thead>\n",
              "    <tr style=\"text-align: right;\">\n",
              "      <th></th>\n",
              "      <th>First Score</th>\n",
              "      <th>Second Score</th>\n",
              "      <th>Third Score</th>\n",
              "    </tr>\n",
              "  </thead>\n",
              "  <tbody>\n",
              "    <tr>\n",
              "      <th>0</th>\n",
              "      <td>False</td>\n",
              "      <td>False</td>\n",
              "      <td>True</td>\n",
              "    </tr>\n",
              "    <tr>\n",
              "      <th>1</th>\n",
              "      <td>False</td>\n",
              "      <td>False</td>\n",
              "      <td>False</td>\n",
              "    </tr>\n",
              "    <tr>\n",
              "      <th>2</th>\n",
              "      <td>True</td>\n",
              "      <td>False</td>\n",
              "      <td>False</td>\n",
              "    </tr>\n",
              "    <tr>\n",
              "      <th>3</th>\n",
              "      <td>False</td>\n",
              "      <td>True</td>\n",
              "      <td>False</td>\n",
              "    </tr>\n",
              "  </tbody>\n",
              "</table>\n",
              "</div>"
            ],
            "text/plain": [
              "   First Score  Second Score  Third Score\n",
              "0        False         False         True\n",
              "1        False         False        False\n",
              "2         True         False        False\n",
              "3        False          True        False"
            ]
          },
          "metadata": {
            "tags": []
          },
          "execution_count": 11
        }
      ]
    },
    {
      "cell_type": "code",
      "metadata": {
        "colab": {
          "base_uri": "https://localhost:8080/",
          "height": 166
        },
        "id": "MEl_Jaxw4r1F",
        "outputId": "e5540690-9dab-4063-cab6-a3ebc381ffb8"
      },
      "source": [
        "df1.fillna('filled')"
      ],
      "execution_count": 12,
      "outputs": [
        {
          "output_type": "execute_result",
          "data": {
            "text/html": [
              "<div>\n",
              "<style scoped>\n",
              "    .dataframe tbody tr th:only-of-type {\n",
              "        vertical-align: middle;\n",
              "    }\n",
              "\n",
              "    .dataframe tbody tr th {\n",
              "        vertical-align: top;\n",
              "    }\n",
              "\n",
              "    .dataframe thead th {\n",
              "        text-align: right;\n",
              "    }\n",
              "</style>\n",
              "<table border=\"1\" class=\"dataframe\">\n",
              "  <thead>\n",
              "    <tr style=\"text-align: right;\">\n",
              "      <th></th>\n",
              "      <th>First Score</th>\n",
              "      <th>Second Score</th>\n",
              "      <th>Third Score</th>\n",
              "    </tr>\n",
              "  </thead>\n",
              "  <tbody>\n",
              "    <tr>\n",
              "      <th>0</th>\n",
              "      <td>100</td>\n",
              "      <td>30</td>\n",
              "      <td>filled</td>\n",
              "    </tr>\n",
              "    <tr>\n",
              "      <th>1</th>\n",
              "      <td>90</td>\n",
              "      <td>45</td>\n",
              "      <td>40</td>\n",
              "    </tr>\n",
              "    <tr>\n",
              "      <th>2</th>\n",
              "      <td>filled</td>\n",
              "      <td>56</td>\n",
              "      <td>80</td>\n",
              "    </tr>\n",
              "    <tr>\n",
              "      <th>3</th>\n",
              "      <td>95</td>\n",
              "      <td>filled</td>\n",
              "      <td>98</td>\n",
              "    </tr>\n",
              "  </tbody>\n",
              "</table>\n",
              "</div>"
            ],
            "text/plain": [
              "  First Score Second Score Third Score\n",
              "0         100           30      filled\n",
              "1          90           45          40\n",
              "2      filled           56          80\n",
              "3          95       filled          98"
            ]
          },
          "metadata": {
            "tags": []
          },
          "execution_count": 12
        }
      ]
    }
  ]
}