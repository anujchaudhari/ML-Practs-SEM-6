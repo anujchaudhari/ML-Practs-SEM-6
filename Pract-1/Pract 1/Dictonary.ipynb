{
  "nbformat": 4,
  "nbformat_minor": 0,
  "metadata": {
    "colab": {
      "name": "Dictonary.ipynb",
      "provenance": [],
      "collapsed_sections": []
    },
    "kernelspec": {
      "name": "python3",
      "display_name": "Python 3"
    }
  },
  "cells": [
    {
      "cell_type": "markdown",
      "metadata": {
        "id": "_8JtjAdNoiMe"
      },
      "source": [
        "A simple Dictonary "
      ]
    },
    {
      "cell_type": "code",
      "metadata": {
        "colab": {
          "base_uri": "https://localhost:8080/"
        },
        "id": "mssqL2hbps5Z",
        "outputId": "4fa6ce35-09cd-42a0-876b-37be623d52bf"
      },
      "source": [
        "dctry1 = {\r\n",
        "          \"Name\": \"Abc\",\r\n",
        "          \"Category\": \"5a\",\r\n",
        "          \"No\": 1456\r\n",
        "         }\r\n",
        "print(dctry1)"
      ],
      "execution_count": 2,
      "outputs": [
        {
          "output_type": "stream",
          "text": [
            "{'Name': 'Abc', 'Category': '5a', 'No': 1456}\n"
          ],
          "name": "stdout"
        }
      ]
    },
    {
      "cell_type": "markdown",
      "metadata": {
        "id": "Q01fKj-jpxTD"
      },
      "source": [
        "Dictionary is changeable"
      ]
    },
    {
      "cell_type": "code",
      "metadata": {
        "colab": {
          "base_uri": "https://localhost:8080/"
        },
        "id": "J2LGQ5TOp_s2",
        "outputId": "227dae99-4082-4390-8031-b21221156214"
      },
      "source": [
        "# print(dctry1[0])\r\n",
        "\r\n",
        "print(dctry1[\"Name\"])\r\n",
        "dctry1[\"No\"] = 123\r\n",
        "dctry1"
      ],
      "execution_count": 3,
      "outputs": [
        {
          "output_type": "stream",
          "text": [
            "Abc\n"
          ],
          "name": "stdout"
        },
        {
          "output_type": "execute_result",
          "data": {
            "text/plain": [
              "{'Category': '5a', 'Name': 'Abc', 'No': 123}"
            ]
          },
          "metadata": {
            "tags": []
          },
          "execution_count": 3
        }
      ]
    },
    {
      "cell_type": "markdown",
      "metadata": {
        "id": "UeWhTYsdqPBK"
      },
      "source": [
        "Dictonary can have multiple datatypes "
      ]
    },
    {
      "cell_type": "code",
      "metadata": {
        "colab": {
          "base_uri": "https://localhost:8080/"
        },
        "id": "Uz5O33XyqoHH",
        "outputId": "2c3c63bd-7c2b-4cbe-8c86-71e95aa1914d"
      },
      "source": [
        "print(type(dctry1))\r\n",
        "\r\n",
        "for x in dctry1:\r\n",
        "  print(x + \": \" +str(dctry1[x]) +\"  (\" + str(type(dctry1[x])) + \")\")"
      ],
      "execution_count": 7,
      "outputs": [
        {
          "output_type": "stream",
          "text": [
            "<class 'dict'>\n",
            "Name: Abc  (<class 'str'>)\n",
            "Category: 5a  (<class 'str'>)\n",
            "No: 123  (<class 'int'>)\n"
          ],
          "name": "stdout"
        }
      ]
    },
    {
      "cell_type": "markdown",
      "metadata": {
        "id": "53wpCugzquJz"
      },
      "source": [
        "Nested Dictonary"
      ]
    },
    {
      "cell_type": "code",
      "metadata": {
        "colab": {
          "base_uri": "https://localhost:8080/"
        },
        "id": "2NnINPPhqx3T",
        "outputId": "d8bcec1f-ddbc-424c-86ea-3fc595c5916a"
      },
      "source": [
        "dctry2 = {0:10, 1:\"a\",2: 11, 3: True, \"4\":False}\r\n",
        "\r\n",
        "Nstdctry = {\r\n",
        "              \"Dct1\": dctry1,\r\n",
        "              \"Dct2\": dctry2\r\n",
        "           }\r\n",
        "\r\n",
        "print(Nstdctry)\r\n",
        "print(Nstdctry[\"Dct1\"])\r\n",
        "print(Nstdctry[\"Dct2\"][\"4\"])"
      ],
      "execution_count": 8,
      "outputs": [
        {
          "output_type": "stream",
          "text": [
            "{'Dct1': {'Name': 'Abc', 'Category': '5a', 'No': 123}, 'Dct2': {0: 10, 1: 'a', 2: 11, 3: True, '4': False}}\n",
            "{'Name': 'Abc', 'Category': '5a', 'No': 123}\n",
            "False\n"
          ],
          "name": "stdout"
        }
      ]
    },
    {
      "cell_type": "markdown",
      "metadata": {
        "id": "We7FGidoq55j"
      },
      "source": [
        "Removing items from Dictonary"
      ]
    },
    {
      "cell_type": "code",
      "metadata": {
        "colab": {
          "base_uri": "https://localhost:8080/"
        },
        "id": "6mDicz_IrCkz",
        "outputId": "4b149237-5b59-46b3-9f4a-2e4ed44c88ff"
      },
      "source": [
        "del dctry2[2]\r\n",
        "print(dctry2)\r\n",
        "print(dctry2.pop(\"4\"))\r\n",
        "\r\n",
        "dctry2.clear()\r\n",
        "\r\n",
        "\r\n",
        "print(dctry2)"
      ],
      "execution_count": 9,
      "outputs": [
        {
          "output_type": "stream",
          "text": [
            "{0: 10, 1: 'a', 3: True, '4': False}\n",
            "False\n",
            "{}\n"
          ],
          "name": "stdout"
        }
      ]
    }
  ]
}