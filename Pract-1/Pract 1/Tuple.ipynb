{
  "nbformat": 4,
  "nbformat_minor": 0,
  "metadata": {
    "colab": {
      "name": "Tuple.ipynb",
      "provenance": []
    },
    "kernelspec": {
      "name": "python3",
      "display_name": "Python 3"
    }
  },
  "cells": [
    {
      "cell_type": "markdown",
      "metadata": {
        "id": "jtBVXtRiuAsy"
      },
      "source": [
        "Tuple"
      ]
    },
    {
      "cell_type": "code",
      "metadata": {
        "id": "BvBegB2ZuCS5"
      },
      "source": [
        "tpl = (\"abc\",\"xyz\", \"qwe\", \"abc\")\r\n",
        "tpl"
      ],
      "execution_count": null,
      "outputs": []
    },
    {
      "cell_type": "markdown",
      "metadata": {
        "id": "nYk30_dxuIQG"
      },
      "source": [
        "Tuple is ordered"
      ]
    },
    {
      "cell_type": "code",
      "metadata": {
        "id": "8FcR4ZHOuJxi"
      },
      "source": [
        "for x in range(len(tpl)):\r\n",
        "  print( \"<\" + str(x) +\">\" +  tpl[x])"
      ],
      "execution_count": null,
      "outputs": []
    },
    {
      "cell_type": "markdown",
      "metadata": {
        "id": "l6qYlsdzuQAI"
      },
      "source": [
        "Tuple is unchangeable"
      ]
    },
    {
      "cell_type": "code",
      "metadata": {
        "id": "PpFH4_huuQz2"
      },
      "source": [
        "# tpl[0] = \"ijk\""
      ],
      "execution_count": null,
      "outputs": []
    },
    {
      "cell_type": "markdown",
      "metadata": {
        "id": "hriy5o7RuTIZ"
      },
      "source": [
        "Tuple with one element"
      ]
    },
    {
      "cell_type": "code",
      "metadata": {
        "id": "zNL9InbTuWji"
      },
      "source": [
        "tpl2 = (1)\r\n",
        "print(type(tpl2))\r\n",
        "tpl2 = (1,)\r\n",
        "print(type(tpl2))"
      ],
      "execution_count": null,
      "outputs": []
    },
    {
      "cell_type": "markdown",
      "metadata": {
        "id": "bIgUGAPUuckm"
      },
      "source": [
        "Nested Tuple"
      ]
    },
    {
      "cell_type": "code",
      "metadata": {
        "id": "a36l8iXgueZk"
      },
      "source": [
        "tpl3 = (tpl, tpl2, tuple((1,2,3,4,5)) )\r\n",
        "tpl3"
      ],
      "execution_count": null,
      "outputs": []
    }
  ]
}