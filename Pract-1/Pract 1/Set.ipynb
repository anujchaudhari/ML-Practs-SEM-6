{
  "nbformat": 4,
  "nbformat_minor": 0,
  "metadata": {
    "colab": {
      "name": "Set.ipynb",
      "provenance": []
    },
    "kernelspec": {
      "name": "python3",
      "display_name": "Python 3"
    }
  },
  "cells": [
    {
      "cell_type": "markdown",
      "metadata": {
        "id": "aBBG7tiQs-pi"
      },
      "source": [
        "Set"
      ]
    },
    {
      "cell_type": "markdown",
      "metadata": {
        "id": "icQAN5fxtDyE"
      },
      "source": [
        "Set have no duplicate element and is undordered"
      ]
    },
    {
      "cell_type": "code",
      "metadata": {
        "id": "5f5_dG56s_6F"
      },
      "source": [
        "set1 = { \"ABC\", 10, True, 1.1, 10 }\r\n",
        "print(set1)"
      ],
      "execution_count": null,
      "outputs": []
    },
    {
      "cell_type": "markdown",
      "metadata": {
        "id": "6REP-s-_tK_q"
      },
      "source": [
        "Set is unchangeable"
      ]
    },
    {
      "cell_type": "code",
      "metadata": {
        "id": "XRc8g_wqtL3h"
      },
      "source": [
        "# set[1]"
      ],
      "execution_count": null,
      "outputs": []
    },
    {
      "cell_type": "markdown",
      "metadata": {
        "id": "fQ_hiLc7tO1g"
      },
      "source": [
        "Set can have multiple data type"
      ]
    },
    {
      "cell_type": "code",
      "metadata": {
        "id": "gieBMQz5tR8f"
      },
      "source": [
        "print(type(set1))\r\n",
        "for x in set1:\r\n",
        "  print(str(x)+ \": \" + str(type(x)))"
      ],
      "execution_count": null,
      "outputs": []
    },
    {
      "cell_type": "markdown",
      "metadata": {
        "id": "C2yyMRZstWTd"
      },
      "source": [
        "Set Operations"
      ]
    },
    {
      "cell_type": "code",
      "metadata": {
        "id": "JG68aBEftXGb"
      },
      "source": [
        "# Adding\r\n",
        "set1.add(\"X\")\r\n",
        "set1.add(False)\r\n",
        "set1"
      ],
      "execution_count": null,
      "outputs": []
    },
    {
      "cell_type": "code",
      "metadata": {
        "id": "-U0j8wXgtdzV"
      },
      "source": [
        "# Union\r\n",
        "set2 = { 1,2,3,4,6,10,8,0 }\r\n",
        "print(\"set1: \"+ str(set1))\r\n",
        "print(\"set2: \"+ str(set2))\r\n",
        "\r\n",
        "set3 = set1 | set2\r\n",
        "print(\"set3: \"+ str(set3))"
      ],
      "execution_count": null,
      "outputs": []
    },
    {
      "cell_type": "code",
      "metadata": {
        "id": "C2poTVnFtetx"
      },
      "source": [
        "# Intersection\r\n",
        "set3 = set3 & set1 \r\n",
        "print(\"set3: \"+ str(set3))"
      ],
      "execution_count": null,
      "outputs": []
    },
    {
      "cell_type": "code",
      "metadata": {
        "id": "zQyLofLnte3i"
      },
      "source": [
        "# Difference\r\n",
        "set4 = set3 - {False, True}\r\n",
        "print(\"set4: \"+ str(set4))"
      ],
      "execution_count": null,
      "outputs": []
    },
    {
      "cell_type": "code",
      "metadata": {
        "id": "OdEAiJ_ete_W"
      },
      "source": [
        "# Clear data\r\n",
        "set1.clear()\r\n",
        "set2.clear()\r\n",
        "set3.clear()\r\n",
        "\r\n",
        "\r\n",
        "print(set1)\r\n",
        "print(set2)\r\n",
        "print(set3)\r\n",
        "print(set4)"
      ],
      "execution_count": null,
      "outputs": []
    }
  ]
}