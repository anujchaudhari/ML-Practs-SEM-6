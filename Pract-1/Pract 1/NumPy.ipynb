{
  "nbformat": 4,
  "nbformat_minor": 0,
  "metadata": {
    "colab": {
      "name": "NumPy.ipynb",
      "provenance": []
    },
    "kernelspec": {
      "name": "python3",
      "display_name": "Python 3"
    }
  },
  "cells": [
    {
      "cell_type": "markdown",
      "metadata": {
        "id": "TmW3La8A7Cs1"
      },
      "source": [
        "import NumPy"
      ]
    },
    {
      "cell_type": "code",
      "metadata": {
        "colab": {
          "base_uri": "https://localhost:8080/"
        },
        "id": "FI6f3OHc7Ri-",
        "outputId": "c0dc4c4a-340b-48bb-c68c-dea2f174a149"
      },
      "source": [
        "import numpy\r\n",
        "\r\n",
        "ar = numpy.array([1, 2, 3, 4, 5])\r\n",
        "\r\n",
        "print(ar)\r\n"
      ],
      "execution_count": 6,
      "outputs": [
        {
          "output_type": "stream",
          "text": [
            "[1 2 3 4 5]\n"
          ],
          "name": "stdout"
        }
      ]
    },
    {
      "cell_type": "code",
      "metadata": {
        "colab": {
          "base_uri": "https://localhost:8080/"
        },
        "id": "-qams6Nd7cvL",
        "outputId": "d9c2167f-f443-41f0-e2ac-4e4acdc45180"
      },
      "source": [
        "import numpy as np\r\n",
        "\r\n",
        "ar = np.array([1, 2, 3, 4, 5])\r\n",
        "\r\n",
        "print(ar)\r\n"
      ],
      "execution_count": 7,
      "outputs": [
        {
          "output_type": "stream",
          "text": [
            "[1 2 3 4 5]\n"
          ],
          "name": "stdout"
        }
      ]
    },
    {
      "cell_type": "markdown",
      "metadata": {
        "id": "BPJbPRHu7g4D"
      },
      "source": [
        "Create NumPy ndarray Object using array() function."
      ]
    },
    {
      "cell_type": "code",
      "metadata": {
        "id": "XK63Gqnu7h0U"
      },
      "source": [
        "import numpy as np\r\n",
        "\r\n",
        "ar = np.array([1, 2, 3, 4, 5])\r\n",
        "\r\n",
        "print(ar)\r\n",
        "\r\n",
        "print(type(ar)) #It tells type of object passed to it."
      ],
      "execution_count": null,
      "outputs": []
    },
    {
      "cell_type": "markdown",
      "metadata": {
        "id": "vCuTb0l97kMQ"
      },
      "source": [
        "Dimensions in Arrays:"
      ]
    },
    {
      "cell_type": "markdown",
      "metadata": {
        "id": "CRAui95k7qiD"
      },
      "source": [
        "2-D Arrays"
      ]
    },
    {
      "cell_type": "code",
      "metadata": {
        "id": "y9oYF1JF7v1w"
      },
      "source": [
        "import numpy as np\r\n",
        "\r\n",
        "ar = np.array([[4, 5, 6], [7, 8, 9]])\r\n",
        "\r\n",
        "print(ar)"
      ],
      "execution_count": null,
      "outputs": []
    },
    {
      "cell_type": "markdown",
      "metadata": {
        "id": "8HEs1Vo-709d"
      },
      "source": [
        "3-D arrays"
      ]
    },
    {
      "cell_type": "code",
      "metadata": {
        "id": "Kk2aN9Ob72D5"
      },
      "source": [
        "import numpy as np\r\n",
        "\r\n",
        "ar = np.array([[[1, 2, 3], [4, 5, 6]], [[7, 8, 9], [40, 50, 60]]])\r\n",
        "\r\n",
        "print(ar)"
      ],
      "execution_count": null,
      "outputs": []
    },
    {
      "cell_type": "code",
      "metadata": {
        "id": "THnSAJgN76tn"
      },
      "source": [
        "# ndim attribute returns an integer that tells how many dimensions array have.\r\n",
        "import numpy as np\r\n",
        "\r\n",
        "a = np.array(10)\r\n",
        "b = np.array([1, 2, 3, 4, 5])\r\n",
        "c = np.array([[4, 5, 6], [7, 8, 9]])\r\n",
        "d = np.array([[[1, 2, 3], [4, 5, 6]], [[7, 8, 9], [40, 50, 60]]])\r\n",
        "\r\n",
        "print(a.ndim)\r\n",
        "print(b.ndim)\r\n",
        "print(c.ndim)\r\n",
        "print(d.ndim)"
      ],
      "execution_count": null,
      "outputs": []
    },
    {
      "cell_type": "code",
      "metadata": {
        "colab": {
          "base_uri": "https://localhost:8080/"
        },
        "id": "OjPtbZcZ78_T",
        "outputId": "f46cbd88-34f9-45ad-a735-2a366d2dd2ba"
      },
      "source": [
        "import numpy as np\r\n",
        "\r\n",
        "ar = np.array([1, 2, 3, 4,5], ndmin=6)\r\n",
        "\r\n",
        "print(ar)\r\n",
        "print('Number of dimensions :', ar.ndim)"
      ],
      "execution_count": 8,
      "outputs": [
        {
          "output_type": "stream",
          "text": [
            "[[[[[[1 2 3 4 5]]]]]]\n",
            "Number of dimensions : 6\n"
          ],
          "name": "stdout"
        }
      ]
    },
    {
      "cell_type": "markdown",
      "metadata": {
        "id": "-uJVCmiF8AKF"
      },
      "source": [
        "Access Array Elements"
      ]
    },
    {
      "cell_type": "code",
      "metadata": {
        "colab": {
          "base_uri": "https://localhost:8080/"
        },
        "id": "qcRjkNdn8BCz",
        "outputId": "42673984-1716-4e79-ea19-36502941eeb2"
      },
      "source": [
        "import numpy as np\r\n",
        "\r\n",
        "arr = np.array([1, 2, 3, 4])\r\n",
        "\r\n",
        "print(arr[0])\r\n",
        "print(arr[1])\r\n",
        "print(arr[2])\r\n",
        "print(arr[3])\r\n",
        "\r\n",
        "print(arr[1] + arr[3])"
      ],
      "execution_count": 10,
      "outputs": [
        {
          "output_type": "stream",
          "text": [
            "1\n",
            "2\n",
            "3\n",
            "4\n",
            "6\n"
          ],
          "name": "stdout"
        }
      ]
    },
    {
      "cell_type": "code",
      "metadata": {
        "colab": {
          "base_uri": "https://localhost:8080/"
        },
        "id": "9Yc7bEXN8EQ_",
        "outputId": "0a0acaae-6c54-4c3e-a985-a7c63659909c"
      },
      "source": [
        "# Accessing 3-D arrays\r\n",
        "import numpy as np\r\n",
        "\r\n",
        "arr = np.array([[[1, 2, 3], [4, 5, 6]], [[7, 8, 9], [10, 11, 12]]])\r\n",
        "\r\n",
        "print(arr[1, 0, 2])\r\n"
      ],
      "execution_count": 11,
      "outputs": [
        {
          "output_type": "stream",
          "text": [
            "9\n"
          ],
          "name": "stdout"
        }
      ]
    },
    {
      "cell_type": "code",
      "metadata": {
        "colab": {
          "base_uri": "https://localhost:8080/"
        },
        "id": "-gbd1juk8MNf",
        "outputId": "f0bfacf1-50b8-4c29-bc3e-bf2f2b5f6f8d"
      },
      "source": [
        "# Negative Indexing\r\n",
        "import numpy as np\r\n",
        "\r\n",
        "arr = np.array([[1,2,3,4,5], [6,7,8,9,10]])\r\n",
        "\r\n",
        "print('Last element from 2nd dim: ', arr[1, -3])\r\n"
      ],
      "execution_count": 12,
      "outputs": [
        {
          "output_type": "stream",
          "text": [
            "Last element from 2nd dim:  8\n"
          ],
          "name": "stdout"
        }
      ]
    },
    {
      "cell_type": "markdown",
      "metadata": {
        "id": "Bi2WBgv68cgJ"
      },
      "source": [
        "Array Slicing"
      ]
    },
    {
      "cell_type": "code",
      "metadata": {
        "colab": {
          "base_uri": "https://localhost:8080/"
        },
        "id": "B5itC1ye8dLm",
        "outputId": "94625c41-93cb-4102-dda1-3fbf011b6a6e"
      },
      "source": [
        "import numpy as np\r\n",
        "\r\n",
        "ar = np.array([1, 2, 3, 4, 5, 6, 7])\r\n",
        "\r\n",
        "print(ar[1:5])\r\n",
        "\r\n",
        "print(ar[2:])#elements from index 2 to the end of the array\r\n",
        "\r\n",
        "print(ar[:5])#elements from the beginning to index 5 (not included)\r\n",
        "\r\n",
        "print(ar[-3:-1])#negative slicing"
      ],
      "execution_count": 13,
      "outputs": [
        {
          "output_type": "stream",
          "text": [
            "[2 3 4 5]\n",
            "[3 4 5 6 7]\n",
            "[1 2 3 4 5]\n",
            "[5 6]\n"
          ],
          "name": "stdout"
        }
      ]
    },
    {
      "cell_type": "code",
      "metadata": {
        "colab": {
          "base_uri": "https://localhost:8080/"
        },
        "id": "pjXgsy4d80Vx",
        "outputId": "6249f972-0509-43bf-d3bd-c379b28148a7"
      },
      "source": [
        "# 2-D array\r\n",
        "import numpy as np\r\n",
        "\r\n",
        "arr = np.array([[1, 2, 3, 4, 5], [6, 7, 8, 9, 10]])\r\n",
        "\r\n",
        "print(arr[0, 1:4])#From the first element, slice elements from index 1 to index 4 \r\n",
        "\r\n",
        "print(arr[0:3, 3])#From both elements, return index 3\r\n",
        "\r\n",
        "print(arr[0:2, 1:4])#From both elements, slice index 1 to index 4 "
      ],
      "execution_count": 14,
      "outputs": [
        {
          "output_type": "stream",
          "text": [
            "[2 3 4]\n",
            "[4 9]\n",
            "[[2 3 4]\n",
            " [7 8 9]]\n"
          ],
          "name": "stdout"
        }
      ]
    },
    {
      "cell_type": "markdown",
      "metadata": {
        "id": "fqMOqG2484X7"
      },
      "source": [
        "Copy & View"
      ]
    },
    {
      "cell_type": "code",
      "metadata": {
        "colab": {
          "base_uri": "https://localhost:8080/"
        },
        "id": "d_y7hyfQ85M9",
        "outputId": "5c783506-3695-4296-d7b4-22c69af79be2"
      },
      "source": [
        "import numpy as np\r\n",
        "\r\n",
        "arr = np.array([1, 2, 3, 4, 5])\r\n",
        "x = arr.copy()\r\n",
        "arr[0] = 10\r\n",
        "\r\n",
        "print(arr)\r\n",
        "print(x)\r\n",
        "\r\n",
        "#view\r\n",
        "y = arr.view()\r\n",
        "arr[3] = 40\r\n",
        "print(arr)\r\n",
        "print(y)"
      ],
      "execution_count": 15,
      "outputs": [
        {
          "output_type": "stream",
          "text": [
            "[10  2  3  4  5]\n",
            "[1 2 3 4 5]\n",
            "[10  2  3 40  5]\n",
            "[10  2  3 40  5]\n"
          ],
          "name": "stdout"
        }
      ]
    },
    {
      "cell_type": "markdown",
      "metadata": {
        "id": "lWLx9nxN9AW7"
      },
      "source": [
        "Shape of an array"
      ]
    },
    {
      "cell_type": "code",
      "metadata": {
        "id": "3Mkt1gjX9Bvh"
      },
      "source": [
        "#It is no. of elements in each dimension.\r\n",
        "import numpy as np\r\n",
        "\r\n",
        "arr = np.array([[1, 2, 3, 4], [5, 6, 7, 8]])\r\n",
        "\r\n",
        "print(arr.shape)\r\n"
      ],
      "execution_count": null,
      "outputs": []
    },
    {
      "cell_type": "code",
      "metadata": {
        "id": "z9Hhv2Bw9Fzi"
      },
      "source": [
        "#Reshaping arrays\r\n",
        "import numpy as np\r\n",
        "\r\n",
        "ar = np.array([1, 2, 3, 4, 5, 6, 7, 8, 9, 10, 11, 12])\r\n",
        "\r\n",
        "x = ar.reshape(4,3)\r\n",
        "\r\n",
        "print(x)"
      ],
      "execution_count": null,
      "outputs": []
    },
    {
      "cell_type": "code",
      "metadata": {
        "id": "PZ3PR06T9H-n"
      },
      "source": [
        "#Converting Multidimensional array into 1D array using reshape(-1)\r\n",
        "import numpy as np\r\n",
        "\r\n",
        "ar = np.array([[1, 2], [4, 5]])\r\n",
        "\r\n",
        "x = ar.reshape(-1)\r\n",
        "\r\n",
        "print(x)"
      ],
      "execution_count": null,
      "outputs": []
    },
    {
      "cell_type": "code",
      "metadata": {
        "id": "FwbJ2p2u9KUN"
      },
      "source": [
        "#Iteration using ndenumerate()\r\n",
        "import numpy as np\r\n",
        "\r\n",
        "ar = np.array([1, 2, 3,4,5])\r\n",
        "\r\n",
        "for idx, x in np.ndenumerate(ar):\r\n",
        "  print(idx , x)"
      ],
      "execution_count": null,
      "outputs": []
    },
    {
      "cell_type": "code",
      "metadata": {
        "id": "TTkNIWaD9Myw"
      },
      "source": [
        "#Joining arrays\r\n",
        "import numpy as np\r\n",
        "\r\n",
        "arr1 = np.array([[1, 2], [3, 4]])\r\n",
        "\r\n",
        "arr2 = np.array([[5, 6], [7, 8]])\r\n",
        "\r\n",
        "arr = np.concatenate((arr1, arr2), axis=1)\r\n",
        "\r\n",
        "print(arr)\r\n"
      ],
      "execution_count": null,
      "outputs": []
    },
    {
      "cell_type": "code",
      "metadata": {
        "id": "Lv6eMTHp9PKo"
      },
      "source": [
        "#Splitting arrays\r\n",
        "import numpy as np\r\n",
        "\r\n",
        "arr = np.array([1, 2, 3, 4, 5, 6])\r\n",
        "\r\n",
        "x = np.array_split(arr, 2)\r\n",
        "\r\n",
        "print(x)"
      ],
      "execution_count": null,
      "outputs": []
    },
    {
      "cell_type": "code",
      "metadata": {
        "id": "roD2OA4g9Rj7"
      },
      "source": [
        "#Searching arrays\r\n",
        "import numpy as np\r\n",
        "\r\n",
        "arr = np.array([1, 2, 3, 4, 5, 6, 5])\r\n",
        "\r\n",
        "x = np.where(arr == 5)\r\n",
        "\r\n",
        "print(x)"
      ],
      "execution_count": null,
      "outputs": []
    },
    {
      "cell_type": "code",
      "metadata": {
        "id": "lsGDTnYq9Tgd"
      },
      "source": [
        "#Sorting arrays\r\n",
        "import numpy as np\r\n",
        "\r\n",
        "ar = np.array([[3, 2, 4], [5, 0, 1]])\r\n",
        "\r\n",
        "print(np.sort(ar))"
      ],
      "execution_count": null,
      "outputs": []
    }
  ]
}